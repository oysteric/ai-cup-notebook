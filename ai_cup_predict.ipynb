{
  "nbformat": 4,
  "nbformat_minor": 0,
  "metadata": {
    "colab": {
      "provenance": [],
      "authorship_tag": "ABX9TyOToA1daSwJdfpf0wa6P8Yt",
      "include_colab_link": true
    },
    "kernelspec": {
      "name": "python3",
      "display_name": "Python 3"
    },
    "language_info": {
      "name": "python"
    }
  },
  "cells": [
    {
      "cell_type": "markdown",
      "metadata": {
        "id": "view-in-github",
        "colab_type": "text"
      },
      "source": [
        "<a href=\"https://colab.research.google.com/github/oysteric/ai-cup-notebook/blob/main/ai_cup_predict.ipynb\" target=\"_parent\"><img src=\"https://colab.research.google.com/assets/colab-badge.svg\" alt=\"Open In Colab\"/></a>"
      ]
    },
    {
      "cell_type": "markdown",
      "source": [
        "# AI Cup Prediction\n",
        "Identify LalaLoop Cup"
      ],
      "metadata": {
        "id": "9McsQ5hR0EkW"
      }
    },
    {
      "cell_type": "code",
      "source": [],
      "metadata": {
        "id": "qNlGrKfL0kaj"
      },
      "execution_count": null,
      "outputs": []
    }
  ]
}