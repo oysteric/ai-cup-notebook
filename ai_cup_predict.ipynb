{
  "nbformat": 4,
  "nbformat_minor": 0,
  "metadata": {
    "colab": {
      "provenance": [],
      "authorship_tag": "ABX9TyM0JlV2uhG/dVZAgKKy+lZu",
      "include_colab_link": true
    },
    "kernelspec": {
      "name": "python3",
      "display_name": "Python 3"
    },
    "language_info": {
      "name": "python"
    }
  },
  "cells": [
    {
      "cell_type": "markdown",
      "metadata": {
        "id": "view-in-github",
        "colab_type": "text"
      },
      "source": [
        "<a href=\"https://colab.research.google.com/github/oysteric/ai-cup-notebook/blob/main/ai_cup_predict.ipynb\" target=\"_parent\"><img src=\"https://colab.research.google.com/assets/colab-badge.svg\" alt=\"Open In Colab\"/></a>"
      ]
    },
    {
      "cell_type": "markdown",
      "source": [
        "# AI Cup Prediction\n",
        "Identify LalaLoop Cup"
      ],
      "metadata": {
        "id": "9McsQ5hR0EkW"
      }
    },
    {
      "cell_type": "markdown",
      "source": [
        "# Install AWS Dependencies"
      ],
      "metadata": {
        "id": "WgP04JIn2Qzr"
      }
    },
    {
      "cell_type": "code",
      "source": [
        "!pip install boto3\n",
        "\n",
        "!pip install aws configure\n",
        "\n",
        "!pip install awscli\n",
        "\n",
        "!aws configure"
      ],
      "metadata": {
        "id": "54wz6vTV2QEA"
      },
      "execution_count": null,
      "outputs": []
    },
    {
      "cell_type": "markdown",
      "source": [
        "## Start Model"
      ],
      "metadata": {
        "id": "GttAnyOd1TSu"
      }
    },
    {
      "cell_type": "code",
      "source": [
        "\n",
        "import boto3\n",
        "\n",
        "def start_model(project_arn, model_arn, version_name, min_inference_units):\n",
        "\n",
        "    client=boto3.client('rekognition','ap-northeast-2')\n",
        "\n",
        "    try:\n",
        "        # Start the model\n",
        "        print('Starting model: ' + model_arn)\n",
        "        response=client.start_project_version(ProjectVersionArn=model_arn, MinInferenceUnits=min_inference_units)\n",
        "        # Wait for the model to be in the running state\n",
        "        project_version_running_waiter = client.get_waiter('project_version_running')\n",
        "        project_version_running_waiter.wait(ProjectArn=project_arn, VersionNames=[version_name])\n",
        "\n",
        "        #Get the running status\n",
        "        describe_response=client.describe_project_versions(ProjectArn=project_arn,\n",
        "            VersionNames=[version_name])\n",
        "        for model in describe_response['ProjectVersionDescriptions']:\n",
        "            print(\"Status: \" + model['Status'])\n",
        "            print(\"Message: \" + model['StatusMessage'])\n",
        "    except Exception as e:\n",
        "        print(e)\n",
        "\n",
        "    print('Done...')\n",
        "\n",
        "def main():\n",
        "    project_arn='arn:aws:rekognition:ap-northeast-2:834156266533:project/LalaLoopCup/1704731324007'\n",
        "    model_arn='arn:aws:rekognition:ap-northeast-2:834156266533:project/LalaLoopCup/version/LalaLoopCup.2024-01-10T17.03.56/1704873836746'\n",
        "    min_inference_units=1\n",
        "    version_name='LalaLoopCup.2024-01-10T17.03.56'\n",
        "    start_model(project_arn, model_arn, version_name, min_inference_units)\n",
        "\n",
        "if __name__ == \"__main__\":\n",
        "    main()"
      ],
      "metadata": {
        "id": "FBXj1BKN1WEy"
      },
      "execution_count": null,
      "outputs": []
    },
    {
      "cell_type": "markdown",
      "source": [
        "## Analyze Image"
      ],
      "metadata": {
        "id": "gBgRctWk1Xvl"
      }
    },
    {
      "cell_type": "code",
      "source": [
        "\n",
        "import boto3\n",
        "import io\n",
        "from PIL import Image, ImageDraw, ExifTags, ImageColor, ImageFont\n",
        "\n",
        "def display_image(bucket,photo,response):\n",
        "    # Load image from S3 bucket\n",
        "    s3_connection = boto3.resource('s3')\n",
        "\n",
        "    s3_object = s3_connection.Object(bucket,photo)\n",
        "    s3_response = s3_object.get()\n",
        "\n",
        "    stream = io.BytesIO(s3_response['Body'].read())\n",
        "    image=Image.open(stream)\n",
        "\n",
        "    # Ready image to draw bounding boxes on it.\n",
        "    imgWidth, imgHeight = image.size\n",
        "    draw = ImageDraw.Draw(image)\n",
        "\n",
        "    # calculate and display bounding boxes for each detected custom label\n",
        "    print('Detected custom labels for ' + photo)\n",
        "    for customLabel in response['CustomLabels']:\n",
        "        print('Label ' + str(customLabel['Name']))\n",
        "        print('Confidence ' + str(customLabel['Confidence']))\n",
        "        if 'Geometry' in customLabel:\n",
        "            box = customLabel['Geometry']['BoundingBox']\n",
        "            left = imgWidth * box['Left']\n",
        "            top = imgHeight * box['Top']\n",
        "            width = imgWidth * box['Width']\n",
        "            height = imgHeight * box['Height']\n",
        "\n",
        "            fnt = ImageFont.truetype('/Library/Fonts/Arial.ttf', 50)\n",
        "            draw.text((left,top), customLabel['Name'], fill='#00d400', font=fnt)\n",
        "\n",
        "            print('Left: ' + '{0:.0f}'.format(left))\n",
        "            print('Top: ' + '{0:.0f}'.format(top))\n",
        "            print('Label Width: ' + \"{0:.0f}\".format(width))\n",
        "            print('Label Height: ' + \"{0:.0f}\".format(height))\n",
        "\n",
        "            points = (\n",
        "                (left,top),\n",
        "                (left + width, top),\n",
        "                (left + width, top + height),\n",
        "                (left , top + height),\n",
        "                (left, top))\n",
        "            draw.line(points, fill='#00d400', width=5)\n",
        "\n",
        "    image.show()\n",
        "\n",
        "def show_custom_labels(model,bucket,photo, min_confidence):\n",
        "\n",
        "    #Create a new AWS Rekognition client\n",
        "    client=boto3.client('rekognition','ap-northeast-2')\n",
        "\n",
        "    #Call DetectCustomLabels\n",
        "    response = client.detect_custom_labels(Image={'S3Object': {'Bucket': bucket, 'Name': photo}},\n",
        "        MinConfidence=min_confidence,\n",
        "        ProjectVersionArn=model)\n",
        "\n",
        "    # For object detection use case, uncomment below code to display image.\n",
        "    # display_image(bucket,photo,response)\n",
        "    #return len(response['CustomLabels'])\n",
        "    return response['CustomLabels']\n",
        "\n",
        "def main():\n",
        "\n",
        "    bucket='lalaloopcupcustommodel'\n",
        "    photo='field-test/test1.png'\n",
        "    model='arn:aws:rekognition:ap-northeast-2:834156266533:project/LalaLoopCup/version/LalaLoopCup.2024-01-10T17.03.56/1704873836746'\n",
        "    min_confidence=50\n",
        "\n",
        "    label_count=show_custom_labels(model,bucket,photo, min_confidence)\n",
        "    print(\"Custom labels detected: \" + str(label_count))\n",
        "\n",
        "\n",
        "if __name__ == \"__main__\":\n",
        "    main()"
      ],
      "metadata": {
        "colab": {
          "base_uri": "https://localhost:8080/"
        },
        "id": "VKFLA30r1fs8",
        "outputId": "29afcb15-f736-4f5b-c9b1-8e7609fddedc"
      },
      "execution_count": 13,
      "outputs": [
        {
          "output_type": "stream",
          "name": "stdout",
          "text": [
            "Custom labels detected: [{'Name': 'LalaLoopCup', 'Confidence': 85.7770004272461}]\n"
          ]
        }
      ]
    },
    {
      "cell_type": "markdown",
      "source": [
        "##Stop Model"
      ],
      "metadata": {
        "id": "7vhEjVuF1icw"
      }
    },
    {
      "cell_type": "code",
      "source": [
        "# import boto3\n",
        "# import time\n",
        "\n",
        "\n",
        "# def stop_model(model_arn):\n",
        "\n",
        "#     client=boto3.client('rekognition')\n",
        "\n",
        "#     print('Stopping model:' + model_arn)\n",
        "\n",
        "#     #Stop the model\n",
        "#     try:\n",
        "#         response=client.stop_project_version(ProjectVersionArn=model_arn)\n",
        "#         status=response['Status']\n",
        "#         print ('Status: ' + status)\n",
        "#     except Exception as e:\n",
        "#         print(e)\n",
        "\n",
        "#     print('Done...')\n",
        "\n",
        "# def main():\n",
        "\n",
        "#     model_arn='arn:aws:rekognition:ap-northeast-2:834156266533:project/LalaLoopCup/version/LalaLoopCup.2024-01-10T17.03.56/1704873836746'\n",
        "#     stop_model(model_arn)\n",
        "\n",
        "# if __name__ == \"__main__\":\n",
        "#     main()"
      ],
      "metadata": {
        "id": "-1oqgPj31ksl"
      },
      "execution_count": null,
      "outputs": []
    }
  ]
}